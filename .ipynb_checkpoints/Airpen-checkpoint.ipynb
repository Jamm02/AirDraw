{
 "cells": [
  {
   "cell_type": "code",
   "execution_count": null,
   "id": "48c6cfa1",
   "metadata": {},
   "outputs": [],
   "source": [
    "\n",
    "import numpy as np\n",
    "import cv2 \n",
    "\n",
    "video = cv2.VideoCapture(0)\n",
    "while(video.isOpened()):\n",
    "\n",
    "    if cv2.waitKey(10) == ord('x'):\n",
    "        cv2.destroyAllWindows()\n",
    "        video.release()\n",
    "        break\n"
   ]
  },
  {
   "cell_type": "code",
   "execution_count": null,
   "id": "017e73f4",
   "metadata": {},
   "outputs": [],
   "source": []
  }
 ],
 "metadata": {
  "kernelspec": {
   "display_name": "Python 3",
   "language": "python",
   "name": "python3"
  },
  "language_info": {
   "codemirror_mode": {
    "name": "ipython",
    "version": 3
   },
   "file_extension": ".py",
   "mimetype": "text/x-python",
   "name": "python",
   "nbconvert_exporter": "python",
   "pygments_lexer": "ipython3",
   "version": "3.8.8"
  }
 },
 "nbformat": 4,
 "nbformat_minor": 5
}
