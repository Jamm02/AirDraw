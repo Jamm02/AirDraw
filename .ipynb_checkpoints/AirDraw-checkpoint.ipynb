{
 "cells": [
  {
   "cell_type": "code",
   "execution_count": 2,
   "metadata": {},
   "outputs": [
    {
     "name": "stdout",
     "output_type": "stream",
     "text": [
      "[108. 205. 139.] [118. 255. 239.]\n"
     ]
    }
   ],
   "source": [
    "#complete code\n",
    "import numpy as np \n",
    "import cv2\n",
    "from collections import deque\n",
    "index = 0\n",
    "points = [deque(maxlen=1024)]\n",
    "video = cv2.VideoCapture(1)\n",
    "cX = 0\n",
    "cY = 0\n",
    "\n",
    "while(video.isOpened()):\n",
    "    _, frame = video.read()\n",
    "    cv2.imshow(\"Image\",frame)\n",
    "    if cv2.waitKey(10) == 13:\n",
    "        bbox = cv2.selectROI(frame)\n",
    "        hsv = cv2.cvtColor(frame,cv2.COLOR_BGR2HSV)\n",
    "        obj_img = hsv[bbox[1]:bbox[1]+bbox[3],bbox[0]:bbox[0]+bbox[2]]\n",
    "        h, s, v = np.median(obj_img[:,:,0]), np.median(obj_img[:,:,1]), np.median(obj_img[:,:,2])\n",
    "        lower = np.array([h-5, max(0,s-50),max(0,v-50)])\n",
    "        upper = np.array([h+5, min(s+50,255),min(v+50,255)])\n",
    "        print(lower,upper)\n",
    "        break\n",
    "\n",
    "\n",
    "while(video.isOpened()):\n",
    "    _, frame = video.read()\n",
    "    frame = cv2.rectangle(frame, (40,1), (140,65), (122,122,122), -1)\n",
    "    cv2.putText(frame, \"CLEAR\", (49, 33), cv2.FONT_HERSHEY_SIMPLEX, 0.5, (0, 0, 0), 2, cv2.LINE_AA)\n",
    "    hsv = cv2.cvtColor(frame, cv2.COLOR_BGR2HSV)\n",
    "    masked = cv2.inRange(hsv, lower, upper)\n",
    "    blur = cv2.medianBlur(masked, 5)\n",
    "    blob_mask = cv2.bitwise_and(frame,frame,mask=blur)\n",
    "    cv2.imshow(\"blob_mask\",blob_mask)\n",
    "    contours, _ = cv2.findContours(blur, cv2.RETR_TREE, cv2.CHAIN_APPROX_SIMPLE)\n",
    "    \n",
    "#     if(i==0):\n",
    "#         list1=np.empty((frame.shape[0]*frame.shape[0],2),int)\n",
    "    for c in contours:\n",
    "        M = cv2.moments(c)\n",
    "        if M[\"m00\"]!=0:\n",
    "            cX = int(M[\"m10\"] / M[\"m00\"])\n",
    "            cY = int(M[\"m01\"] / M[\"m00\"])\n",
    "            center = (int(M['m10'] / M['m00']), int(M['m01'] / M['m00']))\n",
    "   \n",
    "    idx, current_max, counter = 0, 0, 0\n",
    "\n",
    "    for n in contours:\n",
    "        area = cv2.contourArea(n)\n",
    "        if area > current_max:\n",
    "            current_max = area\n",
    "            idx = counter\n",
    "        counter += 1\n",
    "    \n",
    "    cv2.drawContours(frame, contours, idx, (0,255,255),2)\n",
    "\n",
    "    if len(contours)==0:\n",
    "        cX=0\n",
    "        cY=0\n",
    "    if len(contours) > 0:\n",
    "        if(40 <= center[0] <= 140 and 40 <= center[1] <= 80):\n",
    "            points = [deque(maxlen=512)] \n",
    "            index = 0\n",
    "\n",
    "        points[index].appendleft(center)\n",
    "    else:\n",
    "        points.append(deque(maxlen=512))\n",
    "        index += 1\n",
    "    \n",
    "    cv2.circle(frame, (cX, cY), 7, (255, 255, 255), -1)\n",
    "               \n",
    " \n",
    "    for j in range(len(points)):\n",
    "        for k in range(1, len(points[j])):\n",
    "            if points[j][k - 1] is None or points[j][k] is None:\n",
    "                continue\n",
    "            cv2.line(frame, points[j][k - 1], points[j][k], (255,0,0), 2)\n",
    "    cv2.imshow(\"Output\",frame)\n",
    "\n",
    "    if cv2.waitKey(10) == ord('x'):\n",
    "        cv2.destroyAllWindows()\n",
    "        video.release()\n",
    "        break\n"
   ]
  },
  {
   "cell_type": "code",
   "execution_count": null,
   "metadata": {},
   "outputs": [],
   "source": [
    "\n"
   ]
  },
  {
   "cell_type": "code",
   "execution_count": null,
   "metadata": {},
   "outputs": [],
   "source": []
  }
 ],
 "metadata": {
  "accelerator": "GPU",
  "colab": {
   "collapsed_sections": [],
   "name": "Assignment.ipynb",
   "provenance": []
  },
  "kernelspec": {
   "display_name": "Python 3",
   "language": "python",
   "name": "python3"
  },
  "language_info": {
   "codemirror_mode": {
    "name": "ipython",
    "version": 3
   },
   "file_extension": ".py",
   "mimetype": "text/x-python",
   "name": "python",
   "nbconvert_exporter": "python",
   "pygments_lexer": "ipython3",
   "version": "3.8.8"
  }
 },
 "nbformat": 4,
 "nbformat_minor": 1
}
